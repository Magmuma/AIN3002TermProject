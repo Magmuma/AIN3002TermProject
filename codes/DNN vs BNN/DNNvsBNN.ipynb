{
  "nbformat": 4,
  "nbformat_minor": 0,
  "metadata": {
    "colab": {
      "provenance": [],
      "gpuType": "T4"
    },
    "kernelspec": {
      "name": "python3",
      "display_name": "Python 3"
    },
    "language_info": {
      "name": "python"
    },
    "accelerator": "GPU"
  },
  "cells": [
    {
      "cell_type": "code",
      "source": [
        "import tensorflow as tf\n",
        "from tensorflow import keras\n",
        "from tensorflow.keras.datasets import mnist\n",
        "from tensorflow.keras.layers import Dense, Dropout, Flatten\n",
        "from tensorflow.keras.models import Sequential\n",
        "from tensorflow.keras.utils import to_categorical\n",
        "import numpy as np\n",
        "import matplotlib.pyplot as plt\n",
        "\n",
        "\n"
      ],
      "metadata": {
        "id": "iSvhMlVrtaWk"
      },
      "execution_count": 1,
      "outputs": []
    },
    {
      "cell_type": "code",
      "source": [
        "def create_dropout_model():\n",
        "    base_model = keras.applications.VGG16(\n",
        "        include_top=False, weights='imagenet', input_shape=(32, 32, 3))\n",
        "    base_model.trainable = False\n",
        "\n",
        "    model = Sequential([\n",
        "        base_model,\n",
        "        Flatten(),\n",
        "        Dense(128, activation='relu'),\n",
        "        Dropout(0.5),\n",
        "        Dense(10, activation='softmax')\n",
        "    ])\n",
        "\n",
        "    model.compile(optimizer='adam',\n",
        "                  loss='categorical_crossentropy',\n",
        "                  metrics=['accuracy'])\n",
        "    return model\n",
        "\n",
        "def create_bnn_model():\n",
        "    base_model = keras.applications.ResNet50(\n",
        "        include_top=False, weights='imagenet', input_shape=(32, 32, 3))\n",
        "    base_model.trainable = False\n",
        "\n",
        "    model = Sequential([\n",
        "        base_model,\n",
        "        Flatten(),\n",
        "        Dense(128, activation='relu'),\n",
        "        Dropout(0.5),\n",
        "        Dense(10, activation='softmax')\n",
        "    ])\n",
        "\n",
        "    model.compile(optimizer='adam',\n",
        "                  loss='categorical_crossentropy',\n",
        "                  metrics=['accuracy'])\n",
        "    return model\n",
        "\n",
        "\n"
      ],
      "metadata": {
        "id": "HClqYeb2_6hc"
      },
      "execution_count": 2,
      "outputs": []
    },
    {
      "cell_type": "code",
      "source": [
        "(x_train, y_train), (x_test, y_test) = mnist.load_data()\n",
        "x_train = np.repeat(x_train[..., np.newaxis], 3, -1)\n",
        "x_test = np.repeat(x_test[..., np.newaxis], 3, -1)\n",
        "x_train = tf.image.resize(x_train, (32, 32))\n",
        "x_test = tf.image.resize(x_test, (32, 32))\n",
        "x_train = keras.applications.vgg16.preprocess_input(x_train)\n",
        "x_test = keras.applications.vgg16.preprocess_input(x_test)\n",
        "y_train = to_categorical(y_train, num_classes=10)\n",
        "y_test = to_categorical(y_test, num_classes=10)\n",
        "\n",
        "def train_models(model_fn, num_models):\n",
        "    models = []\n",
        "    for i in range(num_models):\n",
        "        model = model_fn()\n",
        "        model.fit(x_train, y_train, epochs=5, verbose=0)\n",
        "        models.append(model)\n",
        "    return models\n",
        "\n",
        "num_models = 5\n",
        "\n",
        "dropout_models = train_models(create_dropout_model, num_models)\n",
        "bnn_models = train_models(create_bnn_model, num_models)\n",
        "\n",
        "def evaluate_models(models):\n",
        "    accuracies = []\n",
        "    for model in models:\n",
        "        _, accuracy = model.evaluate(x_test, y_test, verbose=0)\n",
        "        accuracies.append(accuracy)\n",
        "    return accuracies\n",
        "\n"
      ],
      "metadata": {
        "colab": {
          "base_uri": "https://localhost:8080/"
        },
        "id": "GODP1HHgAA-S",
        "outputId": "65e15a54-e3ec-4117-b8ce-afa9ae25a874"
      },
      "execution_count": 4,
      "outputs": [
        {
          "output_type": "stream",
          "name": "stdout",
          "text": [
            "Downloading data from https://storage.googleapis.com/tensorflow/keras-applications/resnet/resnet50_weights_tf_dim_ordering_tf_kernels_notop.h5\n",
            "94765736/94765736 [==============================] - 0s 0us/step\n"
          ]
        }
      ]
    },
    {
      "cell_type": "code",
      "source": [
        "dropout_accuracies = evaluate_models(dropout_models)\n",
        "bnn_accuracies = evaluate_models(bnn_models)\n",
        "\n",
        "print(\"Dropout Model Accuracies:\", dropout_accuracies)\n",
        "print(\"BNN Model Accuracies:\", bnn_accuracies)\n",
        "print(\"Average Dropout Accuracy:\", np.mean(dropout_accuracies))\n",
        "print(\"Average BNN Accuracy:\", np.mean(bnn_accuracies))\n"
      ],
      "metadata": {
        "colab": {
          "base_uri": "https://localhost:8080/"
        },
        "id": "HI6f3ApRAHEy",
        "outputId": "13519d8e-cdef-44ce-d5ff-2dca9b42832b"
      },
      "execution_count": 7,
      "outputs": [
        {
          "output_type": "stream",
          "name": "stdout",
          "text": [
            "Dropout Model Accuracies: [0.9375, 0.9340999722480774, 0.9380000233650208, 0.9397000074386597, 0.9366999864578247]\n",
            "BNN Model Accuracies: [0.9469000101089478, 0.9474999904632568, 0.9437999725341797, 0.9459999799728394, 0.9484999775886536]\n",
            "Average Dropout Accuracy: 0.9371999979019165\n",
            "Average BNN Accuracy: 0.9465399861335755\n"
          ]
        }
      ]
    },
    {
      "cell_type": "code",
      "source": [
        "def plot_accuracies(dropout_accuracies, bnn_accuracies):\n",
        "    models = ['Model {}'.format(i+1) for i in range(len(dropout_accuracies))]\n",
        "\n",
        "    plt.figure(figsize=(10, 6))\n",
        "    plt.bar(models, dropout_accuracies, color='blue', alpha=0.7, label='Dropout Models')\n",
        "    plt.bar(models, bnn_accuracies, color='orange', alpha=0.7, label='BNN Models')\n",
        "    plt.xlabel('Model')\n",
        "    plt.ylabel('Accuracy')\n",
        "    plt.title('Accuracy Comparison: Dropout vs BNN Models')\n",
        "    plt.legend()\n",
        "    plt.ylim([0.9, 0.95])\n",
        "    plt.show()\n",
        "\n",
        "plot_accuracies(dropout_accuracies, bnn_accuracies)\n"
      ],
      "metadata": {
        "colab": {
          "base_uri": "https://localhost:8080/",
          "height": 560
        },
        "id": "S2wlYmDAy0Um",
        "outputId": "9cfb07ec-eca6-4d2e-92a4-059c6434dd98"
      },
      "execution_count": 8,
      "outputs": [
        {
          "output_type": "display_data",
          "data": {
            "text/plain": [
              "<Figure size 1000x600 with 1 Axes>"
            ],
            "image/png": "[encoded data removed]"
          },
          "metadata": {}
        }
      ]
    }
  ]
}